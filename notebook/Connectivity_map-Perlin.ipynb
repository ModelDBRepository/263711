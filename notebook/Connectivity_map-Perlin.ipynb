{
 "cells": [
  {
   "cell_type": "markdown",
   "metadata": {},
   "source": [
    "## Perlin noise\n",
    "\n",
    "Author: Sebastian Spreizer\n",
    "\n",
    "The MIT License"
   ]
  },
  {
   "cell_type": "code",
   "execution_count": 2,
   "metadata": {},
   "outputs": [],
   "source": [
    "import matplotlib.pyplot as plt\n",
    "import noise\n",
    "import numpy as np\n",
    "\n",
    "import lib.connectivity_map as cm\n",
    "import lib.colormap as cmap"
   ]
  },
  {
   "cell_type": "code",
   "execution_count": 3,
   "metadata": {},
   "outputs": [],
   "source": [
    "nrow = 100\n",
    "size = 4"
   ]
  },
  {
   "cell_type": "code",
   "execution_count": 5,
   "metadata": {},
   "outputs": [
    {
     "data": {
      "image/png": "[encoded data removed]",
      "text/plain": [
       "<Figure size 432x288 with 2 Axes>"
      ]
     },
     "metadata": {
      "needs_background": "light"
     },
     "output_type": "display_data"
    }
   ],
   "source": [
    "landscape = cm.Perlin_uniform(nrow, size=size)\n",
    "landscape *= 2 * np.pi\n",
    "\n",
    "fig,ax = plt.subplots(1)\n",
    "im = ax.matshow(landscape.reshape(nrow,nrow), cmap=cmap.virno(), origin='bottom')\n",
    "cbar = plt.colorbar(im, ax=ax)\n",
    "cbar.set_ticks([0,3.14,6.28])\n",
    "cbar.set_ticklabels([0,'$\\pi$','$2\\pi$'])"
   ]
  },
  {
   "cell_type": "code",
   "execution_count": 7,
   "metadata": {},
   "outputs": [],
   "source": [
    "# azimuths = np.arange(0, 361)\n",
    "# zeniths = np.arange(1, 3)\n",
    "# values = azimuths * np.ones((2, 361))\n",
    "# fig, ax = plt.subplots(subplot_kw=dict(projection='polar'))\n",
    "# ax.pcolormesh(azimuths*np.pi/180.0, zeniths, values, cmap=cmap.virno())\n",
    "# ax.set_yticks([])\n",
    "# ax.set_xticks([0, np.pi/2, np.pi, np.pi*3/2])\n",
    "# ax.set_xticklabels(['0', '$\\pi/2$', '$\\pi$', '$3/2\\pi$'])"
   ]
  },
  {
   "cell_type": "code",
   "execution_count": null,
   "metadata": {},
   "outputs": [],
   "source": []
  }
 ],
 "metadata": {
  "kernelspec": {
   "display_name": "Python 3",
   "language": "python",
   "name": "python3"
  },
  "language_info": {
   "codemirror_mode": {
    "name": "ipython",
    "version": 3
   },
   "file_extension": ".py",
   "mimetype": "text/x-python",
   "name": "python",
   "nbconvert_exporter": "python",
   "pygments_lexer": "ipython3",
   "version": "3.6.8"
  }
 },
 "nbformat": 4,
 "nbformat_minor": 2
}
